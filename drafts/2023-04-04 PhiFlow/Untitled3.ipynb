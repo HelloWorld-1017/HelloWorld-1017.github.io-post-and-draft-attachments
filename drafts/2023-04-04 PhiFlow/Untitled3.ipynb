{
 "cells": [
  {
   "cell_type": "code",
   "execution_count": 1,
   "id": "34b4e968",
   "metadata": {
    "ExecuteTime": {
     "end_time": "2023-04-04T13:15:38.548585Z",
     "start_time": "2023-04-04T13:15:38.523589Z"
    }
   },
   "outputs": [
    {
     "name": "stdout",
     "output_type": "stream",
     "text": [
      "PhiFlow 2.3.2 at D:\\Softwares\\anaconda3\\envs\\PDEenv\\lib\\site-packages\\phi\n",
      "Web interface: OK (dash 2.7.0)\n",
      "PyTorch: Installed (2.0.0 at D:\\Softwares\\anaconda3\\envs\\PDEenv\\lib\\site-packages\\torch), 0 GPUs available.\n",
      "Jax: Not installed.\n",
      "TensorFlow: Not installed.\n",
      "\n"
     ]
    }
   ],
   "source": [
    "import phi\n",
    "phi.verify()"
   ]
  },
  {
   "cell_type": "code",
   "execution_count": 2,
   "id": "6a7047d9",
   "metadata": {
    "ExecuteTime": {
     "end_time": "2023-04-04T13:27:57.405632Z",
     "start_time": "2023-04-04T13:27:57.383667Z"
    }
   },
   "outputs": [],
   "source": [
    "# from phi.flow import *\n",
    "from phi.torch.flow import *"
   ]
  },
  {
   "cell_type": "code",
   "execution_count": 3,
   "id": "07dbca20",
   "metadata": {
    "ExecuteTime": {
     "end_time": "2023-04-04T13:27:58.077900Z",
     "start_time": "2023-04-04T13:27:58.055924Z"
    }
   },
   "outputs": [
    {
     "data": {
      "text/plain": [
       "\u001b[94m0.0\u001b[0m"
      ]
     },
     "execution_count": 3,
     "metadata": {},
     "output_type": "execute_result"
    }
   ],
   "source": [
    "math.zeros()"
   ]
  },
  {
   "cell_type": "code",
   "execution_count": 4,
   "id": "cdbce7c7",
   "metadata": {
    "ExecuteTime": {
     "end_time": "2023-04-04T13:27:58.187901Z",
     "start_time": "2023-04-04T13:27:58.168903Z"
    }
   },
   "outputs": [
    {
     "data": {
      "text/plain": [
       "\u001b[94m0.5142368\u001b[0m"
      ]
     },
     "execution_count": 4,
     "metadata": {},
     "output_type": "execute_result"
    }
   ],
   "source": [
    "math.random_normal()"
   ]
  },
  {
   "cell_type": "code",
   "execution_count": 5,
   "id": "254f4749",
   "metadata": {
    "ExecuteTime": {
     "end_time": "2023-04-04T13:27:58.470906Z",
     "start_time": "2023-04-04T13:27:58.426905Z"
    }
   },
   "outputs": [
    {
     "data": {
      "text/plain": [
       "(\u001b[92m(dim1ᵇ=10)\u001b[0m \u001b[94m-0.021 ± 0.702\u001b[0m \u001b[37m(-1e+00...1e+00)\u001b[0m,\n",
       " \u001b[92m(dim2ᵇ=10)\u001b[0m \u001b[94m0.192 ± 0.899\u001b[0m \u001b[37m(-1e+00...2e+00)\u001b[0m)"
      ]
     },
     "execution_count": 5,
     "metadata": {},
     "output_type": "execute_result"
    }
   ],
   "source": [
    "a = math.random_normal(batch(dim1=10))\n",
    "b = math.random_normal(batch(dim2=10))\n",
    "a,b"
   ]
  },
  {
   "cell_type": "code",
   "execution_count": 6,
   "id": "496e29e3",
   "metadata": {
    "ExecuteTime": {
     "end_time": "2023-04-04T13:27:58.860942Z",
     "start_time": "2023-04-04T13:27:58.845960Z"
    }
   },
   "outputs": [],
   "source": [
    "c = a+b"
   ]
  },
  {
   "cell_type": "code",
   "execution_count": 7,
   "id": "91c2e191",
   "metadata": {
    "ExecuteTime": {
     "end_time": "2023-04-04T13:27:59.045924Z",
     "start_time": "2023-04-04T13:27:59.025950Z"
    }
   },
   "outputs": [
    {
     "data": {
      "text/plain": [
       "\u001b[94m(0.907, 2.074, 0.165, 1.489, 1.442)\u001b[0m along \u001b[92mdim1ᵇ\u001b[0m"
      ]
     },
     "execution_count": 7,
     "metadata": {},
     "output_type": "execute_result"
    }
   ],
   "source": [
    "c.dim1[:5].dim2[-1]"
   ]
  },
  {
   "cell_type": "code",
   "execution_count": 8,
   "id": "3bccf921",
   "metadata": {
    "ExecuteTime": {
     "end_time": "2023-04-04T13:27:59.225917Z",
     "start_time": "2023-04-04T13:27:59.214917Z"
    }
   },
   "outputs": [
    {
     "data": {
      "text/plain": [
       "\u001b[92m(dim2ᵇ=10)\u001b[0m \u001b[94m0.556 ± 0.298\u001b[0m \u001b[37m(3e-02...9e-01)\u001b[0m"
      ]
     },
     "execution_count": 8,
     "metadata": {},
     "output_type": "execute_result"
    }
   ],
   "source": [
    "math.tensor(numpy.random.random(10),batch(dim2=10))"
   ]
  },
  {
   "cell_type": "code",
   "execution_count": 9,
   "id": "27615540",
   "metadata": {
    "ExecuteTime": {
     "end_time": "2023-04-04T13:27:59.505923Z",
     "start_time": "2023-04-04T13:27:59.488921Z"
    }
   },
   "outputs": [
    {
     "data": {
      "text/plain": [
       "\u001b[92m(xˢ=4, yˢ=3, zˢ=3)\u001b[0m \u001b[94mconst 1.0\u001b[0m"
      ]
     },
     "execution_count": 9,
     "metadata": {},
     "output_type": "execute_result"
    }
   ],
   "source": [
    "grid = math.ones(spatial(x=4, y=3, z=3))\n",
    "grid"
   ]
  },
  {
   "cell_type": "code",
   "execution_count": 10,
   "id": "956388cc",
   "metadata": {
    "ExecuteTime": {
     "end_time": "2023-04-04T13:27:59.734860Z",
     "start_time": "2023-04-04T13:27:59.703825Z"
    }
   },
   "outputs": [
    {
     "data": {
      "text/plain": [
       "\u001b[92m(xˢ=4, yˢ=3, zˢ=3, gradientᶜ=3)\u001b[0m \u001b[94mconst 0.0\u001b[0m"
      ]
     },
     "execution_count": 10,
     "metadata": {},
     "output_type": "execute_result"
    }
   ],
   "source": [
    "math.spatial_gradient(grid)"
   ]
  },
  {
   "cell_type": "code",
   "execution_count": 11,
   "id": "732e308e",
   "metadata": {
    "ExecuteTime": {
     "end_time": "2023-04-04T13:27:59.873411Z",
     "start_time": "2023-04-04T13:27:59.858344Z"
    }
   },
   "outputs": [
    {
     "data": {
      "text/plain": [
       "(pointsⁱ=100)"
      ]
     },
     "execution_count": 11,
     "metadata": {},
     "output_type": "execute_result"
    }
   ],
   "source": [
    "instance(points=100)"
   ]
  },
  {
   "cell_type": "code",
   "execution_count": 12,
   "id": "27743da2",
   "metadata": {
    "ExecuteTime": {
     "end_time": "2023-04-04T13:28:00.026819Z",
     "start_time": "2023-04-04T13:28:00.011821Z"
    }
   },
   "outputs": [
    {
     "data": {
      "text/plain": [
       "(colorᶜ=3)"
      ]
     },
     "execution_count": 12,
     "metadata": {},
     "output_type": "execute_result"
    }
   ],
   "source": [
    "channel(color=3)"
   ]
  },
  {
   "cell_type": "code",
   "execution_count": 13,
   "id": "e1d67a06",
   "metadata": {
    "ExecuteTime": {
     "end_time": "2023-04-04T13:28:00.167420Z",
     "start_time": "2023-04-04T13:28:00.156420Z"
    }
   },
   "outputs": [
    {
     "data": {
      "text/plain": [
       "(vectorᶜ=3)"
      ]
     },
     "execution_count": 13,
     "metadata": {},
     "output_type": "execute_result"
    }
   ],
   "source": [
    "channel(vector=3)"
   ]
  },
  {
   "cell_type": "code",
   "execution_count": 14,
   "id": "0fcb6c8e",
   "metadata": {
    "ExecuteTime": {
     "end_time": "2023-04-04T13:28:00.321453Z",
     "start_time": "2023-04-04T13:28:00.294457Z"
    }
   },
   "outputs": [
    {
     "data": {
      "text/plain": [
       "tensor([ 0.0208,  1.1872, -0.7219,  0.6022,  0.5557,  0.5739, -0.2882, -1.0810,\n",
       "        -0.2141, -0.8425])"
      ]
     },
     "execution_count": 14,
     "metadata": {},
     "output_type": "execute_result"
    }
   ],
   "source": [
    "a.native()"
   ]
  },
  {
   "cell_type": "code",
   "execution_count": 15,
   "id": "e70d0ed2",
   "metadata": {
    "ExecuteTime": {
     "end_time": "2023-04-04T13:28:00.555691Z",
     "start_time": "2023-04-04T13:28:00.548717Z"
    }
   },
   "outputs": [
    {
     "data": {
      "text/plain": [
       "torch.Tensor"
      ]
     },
     "execution_count": 15,
     "metadata": {},
     "output_type": "execute_result"
    }
   ],
   "source": [
    "type(a.native())"
   ]
  },
  {
   "cell_type": "code",
   "execution_count": null,
   "id": "e2151dd5",
   "metadata": {},
   "outputs": [],
   "source": [
    "# https://tum-pbs.github.io/PhiFlow/phi/math/"
   ]
  },
  {
   "cell_type": "code",
   "execution_count": 24,
   "id": "5767f7e8",
   "metadata": {},
   "outputs": [
    {
     "name": "stdout",
     "output_type": "stream",
     "text": [
      "\u001b[92m(vectorᶜ=x,y)\u001b[0m\n",
      " 1, 0\n"
     ]
    }
   ],
   "source": [
    "point = vec(x=1,y=0)\n",
    "print(f\"{point:full:shape}\")"
   ]
  },
  {
   "cell_type": "code",
   "execution_count": 26,
   "id": "7cf736ad",
   "metadata": {},
   "outputs": [
    {
     "data": {
      "text/plain": [
       "\u001b[94m(x=1, y=0)\u001b[0m"
      ]
     },
     "execution_count": 26,
     "metadata": {},
     "output_type": "execute_result"
    }
   ],
   "source": [
    "point"
   ]
  },
  {
   "cell_type": "code",
   "execution_count": 27,
   "id": "6b923d9d",
   "metadata": {},
   "outputs": [
    {
     "data": {
      "text/plain": [
       "<Figure size 1200x500 with 1 Axes>"
      ]
     },
     "execution_count": 27,
     "metadata": {},
     "output_type": "execute_result"
    },
    {
     "data": {
      "image/png": "[encoded data removed]",
      "text/plain": [
       "<Figure size 1200x500 with 1 Axes>"
      ]
     },
     "metadata": {},
     "output_type": "display_data"
    }
   ],
   "source": [
    "plot(point)"
   ]
  },
  {
   "cell_type": "code",
   "execution_count": 28,
   "id": "f7f8de0e",
   "metadata": {},
   "outputs": [
    {
     "data": {
      "text/plain": [
       "\u001b[94m(x=1, y=0)\u001b[0m"
      ]
     },
     "execution_count": 28,
     "metadata": {},
     "output_type": "execute_result"
    }
   ],
   "source": [
    "wrap([1, 0], channel(vector='x,y'))"
   ]
  },
  {
   "cell_type": "code",
   "execution_count": 31,
   "id": "4e706b5c",
   "metadata": {},
   "outputs": [
    {
     "data": {
      "text/plain": [
       "\u001b[94m(x=2.095, y=0.837)\u001b[0m; \u001b[94m(x=0.485, y=-1.002)\u001b[0m; \u001b[94m(x=0.409, y=-0.196)\u001b[0m \u001b[92m(pointsⁱ=3, vectorᶜ=x,y)\u001b[0m"
      ]
     },
     "execution_count": 31,
     "metadata": {},
     "output_type": "execute_result"
    }
   ],
   "source": [
    "points = math.random_normal(instance(points=3), channel(vector='x,y'))\n",
    "points"
   ]
  },
  {
   "cell_type": "code",
   "execution_count": 32,
   "id": "4fd023f2",
   "metadata": {},
   "outputs": [
    {
     "data": {
      "text/plain": [
       "<Figure size 1200x500 with 1 Axes>"
      ]
     },
     "execution_count": 32,
     "metadata": {},
     "output_type": "execute_result"
    },
    {
     "data": {
      "image/png": "[encoded data removed]",
      "text/plain": [
       "<Figure size 1200x500 with 1 Axes>"
      ]
     },
     "metadata": {},
     "output_type": "display_data"
    }
   ],
   "source": [
    "plot(points)"
   ]
  },
  {
   "cell_type": "code",
   "execution_count": 33,
   "id": "2675ba00",
   "metadata": {},
   "outputs": [
    {
     "data": {
      "text/plain": [
       "\u001b[94m(x=2.095, y=0.837)\u001b[0m"
      ]
     },
     "execution_count": 33,
     "metadata": {},
     "output_type": "execute_result"
    }
   ],
   "source": [
    "points.points[0]"
   ]
  },
  {
   "cell_type": "code",
   "execution_count": 34,
   "id": "89bfbef0",
   "metadata": {},
   "outputs": [
    {
     "data": {
      "text/plain": [
       "\u001b[94m(2.095, 0.485, 0.409)\u001b[0m along \u001b[92mpointsⁱ\u001b[0m"
      ]
     },
     "execution_count": 34,
     "metadata": {},
     "output_type": "execute_result"
    }
   ],
   "source": [
    "points.vector['x']"
   ]
  },
  {
   "cell_type": "code",
   "execution_count": 35,
   "id": "6eb99520",
   "metadata": {},
   "outputs": [
    {
     "data": {
      "text/plain": [
       "\u001b[94m(2.095, 0.485, 0.409)\u001b[0m along \u001b[92mpointsⁱ\u001b[0m"
      ]
     },
     "execution_count": 35,
     "metadata": {},
     "output_type": "execute_result"
    }
   ],
   "source": [
    "points['x']"
   ]
  },
  {
   "cell_type": "code",
   "execution_count": 37,
   "id": "dfb2490a",
   "metadata": {},
   "outputs": [
    {
     "data": {
      "text/plain": [
       "\u001b[92m(xˢ=10, yˢ=8)\u001b[0m \u001b[94m0.495 ± 0.273\u001b[0m \u001b[37m(7e-03...1e+00)\u001b[0m"
      ]
     },
     "execution_count": 37,
     "metadata": {},
     "output_type": "execute_result"
    }
   ],
   "source": [
    "matrix = math.random_uniform(spatial(x=10, y=8))\n",
    "matrix"
   ]
  },
  {
   "cell_type": "code",
   "execution_count": 38,
   "id": "f6cf6b3a",
   "metadata": {},
   "outputs": [
    {
     "data": {
      "text/plain": [
       "<Figure size 1200x500 with 2 Axes>"
      ]
     },
     "execution_count": 38,
     "metadata": {},
     "output_type": "execute_result"
    },
    {
     "data": {
      "image/png": "[encoded data removed]",
      "text/plain": [
       "<Figure size 1200x500 with 2 Axes>"
      ]
     },
     "metadata": {},
     "output_type": "display_data"
    }
   ],
   "source": [
    "plot(matrix)"
   ]
  }
 ],
 "metadata": {
  "kernelspec": {
   "display_name": "Python 3 (ipykernel)",
   "language": "python",
   "name": "python3"
  },
  "language_info": {
   "codemirror_mode": {
    "name": "ipython",
    "version": 3
   },
   "file_extension": ".py",
   "mimetype": "text/x-python",
   "name": "python",
   "nbconvert_exporter": "python",
   "pygments_lexer": "ipython3",
   "version": "3.9.16"
  },
  "toc": {
   "base_numbering": 1,
   "nav_menu": {},
   "number_sections": true,
   "sideBar": true,
   "skip_h1_title": false,
   "title_cell": "Table of Contents",
   "title_sidebar": "Contents",
   "toc_cell": false,
   "toc_position": {},
   "toc_section_display": true,
   "toc_window_display": false
  },
  "varInspector": {
   "cols": {
    "lenName": 16,
    "lenType": 16,
    "lenVar": 40
   },
   "kernels_config": {
    "python": {
     "delete_cmd_postfix": "",
     "delete_cmd_prefix": "del ",
     "library": "var_list.py",
     "varRefreshCmd": "print(var_dic_list())"
    },
    "r": {
     "delete_cmd_postfix": ") ",
     "delete_cmd_prefix": "rm(",
     "library": "var_list.r",
     "varRefreshCmd": "cat(var_dic_list()) "
    }
   },
   "types_to_exclude": [
    "module",
    "function",
    "builtin_function_or_method",
    "instance",
    "_Feature"
   ],
   "window_display": false
  }
 },
 "nbformat": 4,
 "nbformat_minor": 5
}
